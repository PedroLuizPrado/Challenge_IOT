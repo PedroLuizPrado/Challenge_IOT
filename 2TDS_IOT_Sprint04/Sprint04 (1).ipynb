{
  "nbformat": 4,
  "nbformat_minor": 0,
  "metadata": {
    "colab": {
      "provenance": []
    },
    "kernelspec": {
      "name": "python3",
      "display_name": "Python 3"
    },
    "language_info": {
      "name": "python"
    }
  },
  "cells": [
    {
      "cell_type": "markdown",
      "source": [
        "# **Sprint04: Detecção de Cáries / Análise de Imagens Odontológicas Panoramic Dental Dataset**\n",
        "\n",
        "Este notebook demonstra o processo de:\n",
        "1. Instalação e configuração da API do Kaggle no Google Colab.\n",
        "2. Download e descompactação de um dataset de imagens (Panoramic Dental Dataset).\n",
        "3. Carregamento e pré-processamento dos dados.\n",
        "4. Construção, compilação e treinamento de um modelo de rede neural.\n",
        "5. Avaliação e análise dos resultados obtidos.\n",
        "\n",
        "As melhorias em relação a versões anteriores incluem uma melhor organização do código, adição de comentários explicativos e sugestões de extensões (como callbacks, visualização de métricas e análise de erros).\n",
        "\n"
      ],
      "metadata": {
        "id": "WXwBZG4Ji2P7"
      }
    },
    {
      "cell_type": "markdown",
      "source": [
        "## 1. Instalação da Biblioteca Kaggle\n",
        "\n",
        "Nesta etapa, instalamos a biblioteca `kaggle` no ambiente do Google Colab. Isso permite interagir diretamente com o Kaggle para baixar datasets, enviar submissões de competições, etc.\n"
      ],
      "metadata": {
        "id": "txbUPfvRjRnC"
      }
    },
    {
      "cell_type": "code",
      "execution_count": 2,
      "metadata": {
        "colab": {
          "base_uri": "https://localhost:8080/"
        },
        "id": "c7_zpY8D61cI",
        "outputId": "4a80f53f-8335-41c1-cbfb-934573f6b8e6",
        "collapsed": true
      },
      "outputs": [
        {
          "output_type": "stream",
          "name": "stdout",
          "text": [
            "Requirement already satisfied: kaggle in /usr/local/lib/python3.11/dist-packages (1.7.4.5)\n",
            "Requirement already satisfied: bleach in /usr/local/lib/python3.11/dist-packages (from kaggle) (6.2.0)\n",
            "Requirement already satisfied: certifi>=14.05.14 in /usr/local/lib/python3.11/dist-packages (from kaggle) (2025.4.26)\n",
            "Requirement already satisfied: charset-normalizer in /usr/local/lib/python3.11/dist-packages (from kaggle) (3.4.2)\n",
            "Requirement already satisfied: idna in /usr/local/lib/python3.11/dist-packages (from kaggle) (3.10)\n",
            "Requirement already satisfied: protobuf in /usr/local/lib/python3.11/dist-packages (from kaggle) (5.29.4)\n",
            "Requirement already satisfied: python-dateutil>=2.5.3 in /usr/local/lib/python3.11/dist-packages (from kaggle) (2.9.0.post0)\n",
            "Requirement already satisfied: python-slugify in /usr/local/lib/python3.11/dist-packages (from kaggle) (8.0.4)\n",
            "Requirement already satisfied: requests in /usr/local/lib/python3.11/dist-packages (from kaggle) (2.32.3)\n",
            "Requirement already satisfied: setuptools>=21.0.0 in /usr/local/lib/python3.11/dist-packages (from kaggle) (75.2.0)\n",
            "Requirement already satisfied: six>=1.10 in /usr/local/lib/python3.11/dist-packages (from kaggle) (1.17.0)\n",
            "Requirement already satisfied: text-unidecode in /usr/local/lib/python3.11/dist-packages (from kaggle) (1.3)\n",
            "Requirement already satisfied: tqdm in /usr/local/lib/python3.11/dist-packages (from kaggle) (4.67.1)\n",
            "Requirement already satisfied: urllib3>=1.15.1 in /usr/local/lib/python3.11/dist-packages (from kaggle) (2.4.0)\n",
            "Requirement already satisfied: webencodings in /usr/local/lib/python3.11/dist-packages (from kaggle) (0.5.1)\n"
          ]
        }
      ],
      "source": [
        "\n",
        "!pip install kaggle"
      ]
    },
    {
      "cell_type": "markdown",
      "source": [
        "## 2. Upload da Chave da API do Kaggle\n",
        "\n",
        "Aqui fazemos o upload do arquivo `kaggle.json`, que contém as credenciais de acesso à sua conta Kaggle.  \n"
      ],
      "metadata": {
        "id": "BdEQ7D6kjVdi"
      }
    },
    {
      "cell_type": "code",
      "source": [
        "\n",
        "from google.colab import files\n",
        "files.upload()"
      ],
      "metadata": {
        "colab": {
          "base_uri": "https://localhost:8080/",
          "height": 89
        },
        "id": "0hGyl1Co7Dzw",
        "outputId": "0e4c603e-0360-49b0-bc80-46ee42be9c24"
      },
      "execution_count": 1,
      "outputs": [
        {
          "output_type": "display_data",
          "data": {
            "text/plain": [
              "<IPython.core.display.HTML object>"
            ],
            "text/html": [
              "\n",
              "     <input type=\"file\" id=\"files-591f765f-0b30-485f-b057-ad1146c86820\" name=\"files[]\" multiple disabled\n",
              "        style=\"border:none\" />\n",
              "     <output id=\"result-591f765f-0b30-485f-b057-ad1146c86820\">\n",
              "      Upload widget is only available when the cell has been executed in the\n",
              "      current browser session. Please rerun this cell to enable.\n",
              "      </output>\n",
              "      <script>// Copyright 2017 Google LLC\n",
              "//\n",
              "// Licensed under the Apache License, Version 2.0 (the \"License\");\n",
              "// you may not use this file except in compliance with the License.\n",
              "// You may obtain a copy of the License at\n",
              "//\n",
              "//      http://www.apache.org/licenses/LICENSE-2.0\n",
              "//\n",
              "// Unless required by applicable law or agreed to in writing, software\n",
              "// distributed under the License is distributed on an \"AS IS\" BASIS,\n",
              "// WITHOUT WARRANTIES OR CONDITIONS OF ANY KIND, either express or implied.\n",
              "// See the License for the specific language governing permissions and\n",
              "// limitations under the License.\n",
              "\n",
              "/**\n",
              " * @fileoverview Helpers for google.colab Python module.\n",
              " */\n",
              "(function(scope) {\n",
              "function span(text, styleAttributes = {}) {\n",
              "  const element = document.createElement('span');\n",
              "  element.textContent = text;\n",
              "  for (const key of Object.keys(styleAttributes)) {\n",
              "    element.style[key] = styleAttributes[key];\n",
              "  }\n",
              "  return element;\n",
              "}\n",
              "\n",
              "// Max number of bytes which will be uploaded at a time.\n",
              "const MAX_PAYLOAD_SIZE = 100 * 1024;\n",
              "\n",
              "function _uploadFiles(inputId, outputId) {\n",
              "  const steps = uploadFilesStep(inputId, outputId);\n",
              "  const outputElement = document.getElementById(outputId);\n",
              "  // Cache steps on the outputElement to make it available for the next call\n",
              "  // to uploadFilesContinue from Python.\n",
              "  outputElement.steps = steps;\n",
              "\n",
              "  return _uploadFilesContinue(outputId);\n",
              "}\n",
              "\n",
              "// This is roughly an async generator (not supported in the browser yet),\n",
              "// where there are multiple asynchronous steps and the Python side is going\n",
              "// to poll for completion of each step.\n",
              "// This uses a Promise to block the python side on completion of each step,\n",
              "// then passes the result of the previous step as the input to the next step.\n",
              "function _uploadFilesContinue(outputId) {\n",
              "  const outputElement = document.getElementById(outputId);\n",
              "  const steps = outputElement.steps;\n",
              "\n",
              "  const next = steps.next(outputElement.lastPromiseValue);\n",
              "  return Promise.resolve(next.value.promise).then((value) => {\n",
              "    // Cache the last promise value to make it available to the next\n",
              "    // step of the generator.\n",
              "    outputElement.lastPromiseValue = value;\n",
              "    return next.value.response;\n",
              "  });\n",
              "}\n",
              "\n",
              "/**\n",
              " * Generator function which is called between each async step of the upload\n",
              " * process.\n",
              " * @param {string} inputId Element ID of the input file picker element.\n",
              " * @param {string} outputId Element ID of the output display.\n",
              " * @return {!Iterable<!Object>} Iterable of next steps.\n",
              " */\n",
              "function* uploadFilesStep(inputId, outputId) {\n",
              "  const inputElement = document.getElementById(inputId);\n",
              "  inputElement.disabled = false;\n",
              "\n",
              "  const outputElement = document.getElementById(outputId);\n",
              "  outputElement.innerHTML = '';\n",
              "\n",
              "  const pickedPromise = new Promise((resolve) => {\n",
              "    inputElement.addEventListener('change', (e) => {\n",
              "      resolve(e.target.files);\n",
              "    });\n",
              "  });\n",
              "\n",
              "  const cancel = document.createElement('button');\n",
              "  inputElement.parentElement.appendChild(cancel);\n",
              "  cancel.textContent = 'Cancel upload';\n",
              "  const cancelPromise = new Promise((resolve) => {\n",
              "    cancel.onclick = () => {\n",
              "      resolve(null);\n",
              "    };\n",
              "  });\n",
              "\n",
              "  // Wait for the user to pick the files.\n",
              "  const files = yield {\n",
              "    promise: Promise.race([pickedPromise, cancelPromise]),\n",
              "    response: {\n",
              "      action: 'starting',\n",
              "    }\n",
              "  };\n",
              "\n",
              "  cancel.remove();\n",
              "\n",
              "  // Disable the input element since further picks are not allowed.\n",
              "  inputElement.disabled = true;\n",
              "\n",
              "  if (!files) {\n",
              "    return {\n",
              "      response: {\n",
              "        action: 'complete',\n",
              "      }\n",
              "    };\n",
              "  }\n",
              "\n",
              "  for (const file of files) {\n",
              "    const li = document.createElement('li');\n",
              "    li.append(span(file.name, {fontWeight: 'bold'}));\n",
              "    li.append(span(\n",
              "        `(${file.type || 'n/a'}) - ${file.size} bytes, ` +\n",
              "        `last modified: ${\n",
              "            file.lastModifiedDate ? file.lastModifiedDate.toLocaleDateString() :\n",
              "                                    'n/a'} - `));\n",
              "    const percent = span('0% done');\n",
              "    li.appendChild(percent);\n",
              "\n",
              "    outputElement.appendChild(li);\n",
              "\n",
              "    const fileDataPromise = new Promise((resolve) => {\n",
              "      const reader = new FileReader();\n",
              "      reader.onload = (e) => {\n",
              "        resolve(e.target.result);\n",
              "      };\n",
              "      reader.readAsArrayBuffer(file);\n",
              "    });\n",
              "    // Wait for the data to be ready.\n",
              "    let fileData = yield {\n",
              "      promise: fileDataPromise,\n",
              "      response: {\n",
              "        action: 'continue',\n",
              "      }\n",
              "    };\n",
              "\n",
              "    // Use a chunked sending to avoid message size limits. See b/62115660.\n",
              "    let position = 0;\n",
              "    do {\n",
              "      const length = Math.min(fileData.byteLength - position, MAX_PAYLOAD_SIZE);\n",
              "      const chunk = new Uint8Array(fileData, position, length);\n",
              "      position += length;\n",
              "\n",
              "      const base64 = btoa(String.fromCharCode.apply(null, chunk));\n",
              "      yield {\n",
              "        response: {\n",
              "          action: 'append',\n",
              "          file: file.name,\n",
              "          data: base64,\n",
              "        },\n",
              "      };\n",
              "\n",
              "      let percentDone = fileData.byteLength === 0 ?\n",
              "          100 :\n",
              "          Math.round((position / fileData.byteLength) * 100);\n",
              "      percent.textContent = `${percentDone}% done`;\n",
              "\n",
              "    } while (position < fileData.byteLength);\n",
              "  }\n",
              "\n",
              "  // All done.\n",
              "  yield {\n",
              "    response: {\n",
              "      action: 'complete',\n",
              "    }\n",
              "  };\n",
              "}\n",
              "\n",
              "scope.google = scope.google || {};\n",
              "scope.google.colab = scope.google.colab || {};\n",
              "scope.google.colab._files = {\n",
              "  _uploadFiles,\n",
              "  _uploadFilesContinue,\n",
              "};\n",
              "})(self);\n",
              "</script> "
            ]
          },
          "metadata": {}
        },
        {
          "output_type": "stream",
          "name": "stdout",
          "text": [
            "Saving kaggle.json to kaggle.json\n"
          ]
        },
        {
          "output_type": "execute_result",
          "data": {
            "text/plain": [
              "{'kaggle.json': b'{\"username\":\"pedrolpsp\",\"key\":\"1d2ef680745fcd4960d1dd4079f50218\"}'}"
            ]
          },
          "metadata": {},
          "execution_count": 1
        }
      ]
    },
    {
      "cell_type": "markdown",
      "source": [
        "## 3. Configuração do Diretório do Kaggle\n",
        "\n",
        "Após o upload, precisamos mover o `kaggle.json` para o diretório padrão `~/.kaggle/` e ajustar as permissões para que a biblioteca Kaggle possa acessá-lo corretamente.\n"
      ],
      "metadata": {
        "id": "8RWn-JM2jpaL"
      }
    },
    {
      "cell_type": "code",
      "source": [
        "\n",
        "!mkdir -p ~/.kaggle\n",
        "!cp kaggle.json ~/.kaggle/\n",
        "!chmod 600 ~/.kaggle/kaggle.json"
      ],
      "metadata": {
        "id": "D0FMkD9-7e2f"
      },
      "execution_count": 3,
      "outputs": []
    },
    {
      "cell_type": "markdown",
      "source": [
        "## 4. Download do Dataset\n",
        "\n",
        "Agora podemos baixar o dataset escolhido no Kaggle.  \n",
        "**Exemplo**: `thunderpede/panoramic-dental-dataset`.\n"
      ],
      "metadata": {
        "id": "Sa8MEe8Zjtxj"
      }
    },
    {
      "cell_type": "code",
      "source": [
        "\n",
        "!kaggle datasets download -d  thunderpede/panoramic-dental-dataset"
      ],
      "metadata": {
        "colab": {
          "base_uri": "https://localhost:8080/"
        },
        "id": "VBge4a787h6X",
        "outputId": "13e045f4-d84d-4140-b44c-4b69ba6981d6"
      },
      "execution_count": 4,
      "outputs": [
        {
          "output_type": "stream",
          "name": "stdout",
          "text": [
            "Dataset URL: https://www.kaggle.com/datasets/thunderpede/panoramic-dental-dataset\n",
            "License(s): other\n",
            "Downloading panoramic-dental-dataset.zip to /content\n",
            " 75% 182M/244M [00:00<00:00, 595MB/s] \n",
            "100% 244M/244M [00:00<00:00, 565MB/s]\n"
          ]
        }
      ]
    },
    {
      "cell_type": "markdown",
      "source": [
        "## 5. Descompactar o Dataset\n",
        "\n",
        "Por fim, descompactamos o arquivo `.zip` baixado para obtermos as pastas e arquivos de imagem.\n"
      ],
      "metadata": {
        "id": "lbcbYaBsj3DD"
      }
    },
    {
      "cell_type": "code",
      "source": [
        "\n",
        "!unzip panoramic-dental-dataset.zip"
      ],
      "metadata": {
        "colab": {
          "base_uri": "https://localhost:8080/"
        },
        "id": "-LUvifHM73uo",
        "outputId": "8c3a8b1d-670e-4b38-f505-77dddfc9b8ff"
      },
      "execution_count": 7,
      "outputs": [
        {
          "output_type": "stream",
          "name": "stdout",
          "text": [
            "Archive:  panoramic-dental-dataset.zip\n",
            "replace annotations/bboxes_caries/1008.txt? [y]es, [n]o, [A]ll, [N]one, [r]ename: y\n",
            "  inflating: annotations/bboxes_caries/1008.txt  \n",
            "replace annotations/bboxes_caries/1009.txt? [y]es, [n]o, [A]ll, [N]one, [r]ename: a\n",
            "error:  invalid response [a]\n",
            "replace annotations/bboxes_caries/1009.txt? [y]es, [n]o, [A]ll, [N]one, [r]ename: y\n",
            "  inflating: annotations/bboxes_caries/1009.txt  \n",
            "replace annotations/bboxes_caries/1016.txt? [y]es, [n]o, [A]ll, [N]one, [r]ename: a\n",
            "error:  invalid response [a]\n",
            "replace annotations/bboxes_caries/1016.txt? [y]es, [n]o, [A]ll, [N]one, [r]ename: a\n",
            "error:  invalid response [a]\n",
            "replace annotations/bboxes_caries/1016.txt? [y]es, [n]o, [A]ll, [N]one, [r]ename: a\n",
            "error:  invalid response [a]\n",
            "replace annotations/bboxes_caries/1016.txt? [y]es, [n]o, [A]ll, [N]one, [r]ename: a\n",
            "error:  invalid response [a]\n",
            "replace annotations/bboxes_caries/1016.txt? [y]es, [n]o, [A]ll, [N]one, [r]ename: A\n",
            "  inflating: annotations/bboxes_caries/1016.txt  \n",
            "  inflating: annotations/bboxes_caries/1018.txt  \n",
            "  inflating: annotations/bboxes_caries/1026.txt  \n",
            "  inflating: annotations/bboxes_caries/1033.txt  \n",
            "  inflating: annotations/bboxes_caries/1042.txt  \n",
            "  inflating: annotations/bboxes_caries/1050.txt  \n",
            "  inflating: annotations/bboxes_caries/1058.txt  \n",
            "  inflating: annotations/bboxes_caries/1067.txt  \n",
            "  inflating: annotations/bboxes_caries/1074.txt  \n",
            "  inflating: annotations/bboxes_caries/1080.txt  \n",
            "  inflating: annotations/bboxes_caries/1083.txt  \n",
            "  inflating: annotations/bboxes_caries/1088.txt  \n",
            "  inflating: annotations/bboxes_caries/1090.txt  \n",
            "  inflating: annotations/bboxes_caries/1091.txt  \n",
            "  inflating: annotations/bboxes_caries/1092.txt  \n",
            "  inflating: annotations/bboxes_caries/1096.txt  \n",
            "  inflating: annotations/bboxes_caries/306.txt  \n",
            "  inflating: annotations/bboxes_caries/310.txt  \n",
            "  inflating: annotations/bboxes_caries/318.txt  \n",
            "  inflating: annotations/bboxes_caries/323.txt  \n",
            "  inflating: annotations/bboxes_caries/347.txt  \n",
            "  inflating: annotations/bboxes_caries/350.txt  \n",
            "  inflating: annotations/bboxes_caries/354.txt  \n",
            "  inflating: annotations/bboxes_caries/360.txt  \n",
            "  inflating: annotations/bboxes_caries/365.txt  \n",
            "  inflating: annotations/bboxes_caries/367.txt  \n",
            "  inflating: annotations/bboxes_caries/369.txt  \n",
            "  inflating: annotations/bboxes_caries/370.txt  \n",
            "  inflating: annotations/bboxes_caries/372.txt  \n",
            "  inflating: annotations/bboxes_caries/376.txt  \n",
            "  inflating: annotations/bboxes_caries/378.txt  \n",
            "  inflating: annotations/bboxes_caries/383.txt  \n",
            "  inflating: annotations/bboxes_caries/388.txt  \n",
            "  inflating: annotations/bboxes_caries/392.txt  \n",
            "  inflating: annotations/bboxes_caries/395.txt  \n",
            "  inflating: annotations/bboxes_caries/396.txt  \n",
            "  inflating: annotations/bboxes_caries/702.txt  \n",
            "  inflating: annotations/bboxes_caries/706.txt  \n",
            "  inflating: annotations/bboxes_caries/708.txt  \n",
            "  inflating: annotations/bboxes_caries/710.txt  \n",
            "  inflating: annotations/bboxes_caries/714.txt  \n",
            "  inflating: annotations/bboxes_caries/715.txt  \n",
            "  inflating: annotations/bboxes_caries/717.txt  \n",
            "  inflating: annotations/bboxes_caries/724.txt  \n",
            "  inflating: annotations/bboxes_caries/732.txt  \n",
            "  inflating: annotations/bboxes_caries/736.txt  \n",
            "  inflating: annotations/bboxes_caries/740.txt  \n",
            "  inflating: annotations/bboxes_caries/748.txt  \n",
            "  inflating: annotations/bboxes_caries/750.txt  \n",
            "  inflating: annotations/bboxes_caries/755.txt  \n",
            "  inflating: annotations/bboxes_caries/758.txt  \n",
            "  inflating: annotations/bboxes_caries/759.txt  \n",
            "  inflating: annotations/bboxes_caries/761.txt  \n",
            "  inflating: annotations/bboxes_caries/769.txt  \n",
            "  inflating: annotations/bboxes_caries/777.txt  \n",
            "  inflating: annotations/bboxes_caries/778.txt  \n",
            "  inflating: annotations/bboxes_caries/783.txt  \n",
            "  inflating: annotations/bboxes_caries/784.txt  \n",
            "  inflating: annotations/bboxes_caries/786.txt  \n",
            "  inflating: annotations/bboxes_caries/790.txt  \n",
            "  inflating: annotations/bboxes_caries/793.txt  \n",
            "  inflating: annotations/bboxes_caries/797.txt  \n",
            "  inflating: annotations/bboxes_caries/804.txt  \n",
            "  inflating: annotations/bboxes_caries/810.txt  \n",
            "  inflating: annotations/bboxes_caries/812.txt  \n",
            "  inflating: annotations/bboxes_caries/814.txt  \n",
            "  inflating: annotations/bboxes_caries/818.txt  \n",
            "  inflating: annotations/bboxes_caries/819.txt  \n",
            "  inflating: annotations/bboxes_caries/822.txt  \n",
            "  inflating: annotations/bboxes_caries/837.txt  \n",
            "  inflating: annotations/bboxes_caries/842.txt  \n",
            "  inflating: annotations/bboxes_caries/855.txt  \n",
            "  inflating: annotations/bboxes_caries/856.txt  \n",
            "  inflating: annotations/bboxes_caries/857.txt  \n",
            "  inflating: annotations/bboxes_caries/858.txt  \n",
            "  inflating: annotations/bboxes_caries/859.txt  \n",
            "  inflating: annotations/bboxes_caries/861.txt  \n",
            "  inflating: annotations/bboxes_caries/866.txt  \n",
            "  inflating: annotations/bboxes_caries/867.txt  \n",
            "  inflating: annotations/bboxes_caries/872.txt  \n",
            "  inflating: annotations/bboxes_caries/875.txt  \n",
            "  inflating: annotations/bboxes_caries/883.txt  \n",
            "  inflating: annotations/bboxes_caries/885.txt  \n",
            "  inflating: annotations/bboxes_caries/886.txt  \n",
            "  inflating: annotations/bboxes_caries/895.txt  \n",
            "  inflating: annotations/bboxes_caries/901.txt  \n",
            "  inflating: annotations/bboxes_caries/913.txt  \n",
            "  inflating: annotations/bboxes_caries/925.txt  \n",
            "  inflating: annotations/bboxes_caries/934.txt  \n",
            "  inflating: annotations/bboxes_caries/935.txt  \n",
            "  inflating: annotations/bboxes_caries/939.txt  \n",
            "  inflating: annotations/bboxes_caries/942.txt  \n",
            "  inflating: annotations/bboxes_caries/952.txt  \n",
            "  inflating: annotations/bboxes_caries/954.txt  \n",
            "  inflating: annotations/bboxes_caries/963.txt  \n",
            "  inflating: annotations/bboxes_caries/979.txt  \n",
            "  inflating: annotations/bboxes_caries/981.txt  \n",
            "  inflating: annotations/bboxes_caries/996.txt  \n",
            "  inflating: annotations/bboxes_teeth/1008.txt  \n",
            "  inflating: annotations/bboxes_teeth/1009.txt  \n",
            "  inflating: annotations/bboxes_teeth/1016.txt  \n",
            "  inflating: annotations/bboxes_teeth/1018.txt  \n",
            "  inflating: annotations/bboxes_teeth/1026.txt  \n",
            "  inflating: annotations/bboxes_teeth/1033.txt  \n",
            "  inflating: annotations/bboxes_teeth/1042.txt  \n",
            "  inflating: annotations/bboxes_teeth/1050.txt  \n",
            "  inflating: annotations/bboxes_teeth/1058.txt  \n",
            "  inflating: annotations/bboxes_teeth/1067.txt  \n",
            "  inflating: annotations/bboxes_teeth/1074.txt  \n",
            "  inflating: annotations/bboxes_teeth/1080.txt  \n",
            "  inflating: annotations/bboxes_teeth/1083.txt  \n",
            "  inflating: annotations/bboxes_teeth/1088.txt  \n",
            "  inflating: annotations/bboxes_teeth/1090.txt  \n",
            "  inflating: annotations/bboxes_teeth/1091.txt  \n",
            "  inflating: annotations/bboxes_teeth/1092.txt  \n",
            "  inflating: annotations/bboxes_teeth/1096.txt  \n",
            "  inflating: annotations/bboxes_teeth/306.txt  \n",
            "  inflating: annotations/bboxes_teeth/310.txt  \n",
            "  inflating: annotations/bboxes_teeth/318.txt  \n",
            "  inflating: annotations/bboxes_teeth/323.txt  \n",
            "  inflating: annotations/bboxes_teeth/347.txt  \n",
            "  inflating: annotations/bboxes_teeth/350.txt  \n",
            "  inflating: annotations/bboxes_teeth/354.txt  \n",
            "  inflating: annotations/bboxes_teeth/360.txt  \n",
            "  inflating: annotations/bboxes_teeth/365.txt  \n",
            "  inflating: annotations/bboxes_teeth/367.txt  \n",
            "  inflating: annotations/bboxes_teeth/369.txt  \n",
            "  inflating: annotations/bboxes_teeth/370.txt  \n",
            "  inflating: annotations/bboxes_teeth/372.txt  \n",
            "  inflating: annotations/bboxes_teeth/376.txt  \n",
            "  inflating: annotations/bboxes_teeth/378.txt  \n",
            "  inflating: annotations/bboxes_teeth/383.txt  \n",
            "  inflating: annotations/bboxes_teeth/388.txt  \n",
            "  inflating: annotations/bboxes_teeth/392.txt  \n",
            "  inflating: annotations/bboxes_teeth/395.txt  \n",
            "  inflating: annotations/bboxes_teeth/396.txt  \n",
            "  inflating: annotations/bboxes_teeth/702.txt  \n",
            "  inflating: annotations/bboxes_teeth/706.txt  \n",
            "  inflating: annotations/bboxes_teeth/708.txt  \n",
            "  inflating: annotations/bboxes_teeth/710.txt  \n",
            "  inflating: annotations/bboxes_teeth/714.txt  \n",
            "  inflating: annotations/bboxes_teeth/715.txt  \n",
            "  inflating: annotations/bboxes_teeth/717.txt  \n",
            "  inflating: annotations/bboxes_teeth/724.txt  \n",
            "  inflating: annotations/bboxes_teeth/732.txt  \n",
            "  inflating: annotations/bboxes_teeth/736.txt  \n",
            "  inflating: annotations/bboxes_teeth/740.txt  \n",
            "  inflating: annotations/bboxes_teeth/748.txt  \n",
            "  inflating: annotations/bboxes_teeth/750.txt  \n",
            "  inflating: annotations/bboxes_teeth/755.txt  \n",
            "  inflating: annotations/bboxes_teeth/758.txt  \n",
            "  inflating: annotations/bboxes_teeth/759.txt  \n",
            "  inflating: annotations/bboxes_teeth/761.txt  \n",
            "  inflating: annotations/bboxes_teeth/769.txt  \n",
            "  inflating: annotations/bboxes_teeth/777.txt  \n",
            "  inflating: annotations/bboxes_teeth/778.txt  \n",
            "  inflating: annotations/bboxes_teeth/783.txt  \n",
            "  inflating: annotations/bboxes_teeth/784.txt  \n",
            "  inflating: annotations/bboxes_teeth/786.txt  \n",
            "  inflating: annotations/bboxes_teeth/790.txt  \n",
            "  inflating: annotations/bboxes_teeth/793.txt  \n",
            "  inflating: annotations/bboxes_teeth/797.txt  \n",
            "  inflating: annotations/bboxes_teeth/804.txt  \n",
            "  inflating: annotations/bboxes_teeth/810.txt  \n",
            "  inflating: annotations/bboxes_teeth/812.txt  \n",
            "  inflating: annotations/bboxes_teeth/814.txt  \n",
            "  inflating: annotations/bboxes_teeth/818.txt  \n",
            "  inflating: annotations/bboxes_teeth/819.txt  \n",
            "  inflating: annotations/bboxes_teeth/822.txt  \n",
            "  inflating: annotations/bboxes_teeth/837.txt  \n",
            "  inflating: annotations/bboxes_teeth/842.txt  \n",
            "  inflating: annotations/bboxes_teeth/855.txt  \n",
            "  inflating: annotations/bboxes_teeth/856.txt  \n",
            "  inflating: annotations/bboxes_teeth/857.txt  \n",
            "  inflating: annotations/bboxes_teeth/858.txt  \n",
            "  inflating: annotations/bboxes_teeth/859.txt  \n",
            "  inflating: annotations/bboxes_teeth/861.txt  \n",
            "  inflating: annotations/bboxes_teeth/866.txt  \n",
            "  inflating: annotations/bboxes_teeth/867.txt  \n",
            "  inflating: annotations/bboxes_teeth/872.txt  \n",
            "  inflating: annotations/bboxes_teeth/875.txt  \n",
            "  inflating: annotations/bboxes_teeth/883.txt  \n",
            "  inflating: annotations/bboxes_teeth/885.txt  \n",
            "  inflating: annotations/bboxes_teeth/886.txt  \n",
            "  inflating: annotations/bboxes_teeth/895.txt  \n",
            "  inflating: annotations/bboxes_teeth/901.txt  \n",
            "  inflating: annotations/bboxes_teeth/913.txt  \n",
            "  inflating: annotations/bboxes_teeth/925.txt  \n",
            "  inflating: annotations/bboxes_teeth/934.txt  \n",
            "  inflating: annotations/bboxes_teeth/935.txt  \n",
            "  inflating: annotations/bboxes_teeth/939.txt  \n",
            "  inflating: annotations/bboxes_teeth/942.txt  \n",
            "  inflating: annotations/bboxes_teeth/952.txt  \n",
            "  inflating: annotations/bboxes_teeth/954.txt  \n",
            "  inflating: annotations/bboxes_teeth/963.txt  \n",
            "  inflating: annotations/bboxes_teeth/979.txt  \n",
            "  inflating: annotations/bboxes_teeth/981.txt  \n",
            "  inflating: annotations/bboxes_teeth/996.txt  \n",
            "  inflating: images/1008.png         \n",
            "  inflating: images/1009.png         \n",
            "  inflating: images/1016.png         \n",
            "  inflating: images/1018.png         \n",
            "  inflating: images/1026.png         \n",
            "  inflating: images/1033.png         \n",
            "  inflating: images/1042.png         \n",
            "  inflating: images/1050.png         \n",
            "  inflating: images/1058.png         \n",
            "  inflating: images/1067.png         \n",
            "  inflating: images/1074.png         \n",
            "  inflating: images/1080.png         \n",
            "  inflating: images/1083.png         \n",
            "  inflating: images/1088.png         \n",
            "  inflating: images/1090.png         \n",
            "  inflating: images/1091.png         \n",
            "  inflating: images/1092.png         \n",
            "  inflating: images/1096.png         \n",
            "  inflating: images/306.png          \n",
            "  inflating: images/310.png          \n",
            "  inflating: images/318.png          \n",
            "  inflating: images/323.png          \n",
            "  inflating: images/347.png          \n",
            "  inflating: images/350.png          \n",
            "  inflating: images/354.png          \n",
            "  inflating: images/360.png          \n",
            "  inflating: images/365.png          \n",
            "  inflating: images/367.png          \n",
            "  inflating: images/369.png          \n",
            "  inflating: images/370.png          \n",
            "  inflating: images/372.png          \n",
            "  inflating: images/376.png          \n",
            "  inflating: images/378.png          \n",
            "  inflating: images/383.png          \n",
            "  inflating: images/388.png          \n",
            "  inflating: images/392.png          \n",
            "  inflating: images/395.png          \n",
            "  inflating: images/396.png          \n",
            "  inflating: images/702.png          \n",
            "  inflating: images/706.png          \n",
            "  inflating: images/708.png          \n",
            "  inflating: images/710.png          \n",
            "  inflating: images/714.png          \n",
            "  inflating: images/715.png          \n",
            "  inflating: images/717.png          \n",
            "  inflating: images/724.png          \n",
            "  inflating: images/732.png          \n",
            "  inflating: images/736.png          \n",
            "  inflating: images/740.png          \n",
            "  inflating: images/748.png          \n",
            "  inflating: images/750.png          \n",
            "  inflating: images/755.png          \n",
            "  inflating: images/758.png          \n",
            "  inflating: images/759.png          \n",
            "  inflating: images/761.png          \n",
            "  inflating: images/769.png          \n",
            "  inflating: images/777.png          \n",
            "  inflating: images/778.png          \n",
            "  inflating: images/783.png          \n",
            "  inflating: images/784.png          \n",
            "  inflating: images/786.png          \n",
            "  inflating: images/790.png          \n",
            "  inflating: images/793.png          \n",
            "  inflating: images/797.png          \n",
            "  inflating: images/804.png          \n",
            "  inflating: images/810.png          \n",
            "  inflating: images/812.png          \n",
            "  inflating: images/814.png          \n",
            "  inflating: images/818.png          \n",
            "  inflating: images/819.png          \n",
            "  inflating: images/822.png          \n",
            "  inflating: images/837.png          \n",
            "  inflating: images/842.png          \n",
            "  inflating: images/855.png          \n",
            "  inflating: images/856.png          \n",
            "  inflating: images/857.png          \n",
            "  inflating: images/858.png          \n",
            "  inflating: images/859.png          \n",
            "  inflating: images/861.png          \n",
            "  inflating: images/866.png          \n",
            "  inflating: images/867.png          \n",
            "  inflating: images/872.png          \n",
            "  inflating: images/875.png          \n",
            "  inflating: images/883.png          \n",
            "  inflating: images/885.png          \n",
            "  inflating: images/886.png          \n",
            "  inflating: images/895.png          \n",
            "  inflating: images/901.png          \n",
            "  inflating: images/913.png          \n",
            "  inflating: images/925.png          \n",
            "  inflating: images/934.png          \n",
            "  inflating: images/935.png          \n",
            "  inflating: images/939.png          \n",
            "  inflating: images/942.png          \n",
            "  inflating: images/952.png          \n",
            "  inflating: images/954.png          \n",
            "  inflating: images/963.png          \n",
            "  inflating: images/979.png          \n",
            "  inflating: images/981.png          \n",
            "  inflating: images/996.png          \n",
            "  inflating: images_cut/1008.png     \n",
            "  inflating: images_cut/1009.png     \n",
            "  inflating: images_cut/1016.png     \n",
            "  inflating: images_cut/1018.png     \n",
            "  inflating: images_cut/1026.png     \n",
            "  inflating: images_cut/1033.png     \n",
            "  inflating: images_cut/1042.png     \n",
            "  inflating: images_cut/1050.png     \n",
            "  inflating: images_cut/1058.png     \n",
            "  inflating: images_cut/1067.png     \n",
            "  inflating: images_cut/1074.png     \n",
            "  inflating: images_cut/1080.png     \n",
            "  inflating: images_cut/1083.png     \n",
            "  inflating: images_cut/1088.png     \n",
            "  inflating: images_cut/1090.png     \n",
            "  inflating: images_cut/1091.png     \n",
            "  inflating: images_cut/1092.png     \n",
            "  inflating: images_cut/1096.png     \n",
            "  inflating: images_cut/306.png      \n",
            "  inflating: images_cut/310.png      \n",
            "  inflating: images_cut/318.png      \n",
            "  inflating: images_cut/323.png      \n",
            "  inflating: images_cut/347.png      \n",
            "  inflating: images_cut/350.png      \n",
            "  inflating: images_cut/354.png      \n",
            "  inflating: images_cut/360.png      \n",
            "  inflating: images_cut/365.png      \n",
            "  inflating: images_cut/367.png      \n",
            "  inflating: images_cut/369.png      \n",
            "  inflating: images_cut/370.png      \n",
            "  inflating: images_cut/372.png      \n",
            "  inflating: images_cut/376.png      \n",
            "  inflating: images_cut/378.png      \n",
            "  inflating: images_cut/383.png      \n",
            "  inflating: images_cut/388.png      \n",
            "  inflating: images_cut/392.png      \n",
            "  inflating: images_cut/395.png      \n",
            "  inflating: images_cut/396.png      \n",
            "  inflating: images_cut/702.png      \n",
            "  inflating: images_cut/706.png      \n",
            "  inflating: images_cut/708.png      \n",
            "  inflating: images_cut/710.png      \n",
            "  inflating: images_cut/714.png      \n",
            "  inflating: images_cut/715.png      \n",
            "  inflating: images_cut/717.png      \n",
            "  inflating: images_cut/724.png      \n",
            "  inflating: images_cut/732.png      \n",
            "  inflating: images_cut/736.png      \n",
            "  inflating: images_cut/740.png      \n",
            "  inflating: images_cut/748.png      \n",
            "  inflating: images_cut/750.png      \n",
            "  inflating: images_cut/755.png      \n",
            "  inflating: images_cut/758.png      \n",
            "  inflating: images_cut/759.png      \n",
            "  inflating: images_cut/761.png      \n",
            "  inflating: images_cut/769.png      \n",
            "  inflating: images_cut/777.png      \n",
            "  inflating: images_cut/778.png      \n",
            "  inflating: images_cut/783.png      \n",
            "  inflating: images_cut/784.png      \n",
            "  inflating: images_cut/786.png      \n",
            "  inflating: images_cut/790.png      \n",
            "  inflating: images_cut/793.png      \n",
            "  inflating: images_cut/797.png      \n",
            "  inflating: images_cut/804.png      \n",
            "  inflating: images_cut/810.png      \n",
            "  inflating: images_cut/812.png      \n",
            "  inflating: images_cut/814.png      \n",
            "  inflating: images_cut/818.png      \n",
            "  inflating: images_cut/819.png      \n",
            "  inflating: images_cut/822.png      \n",
            "  inflating: images_cut/837.png      \n",
            "  inflating: images_cut/842.png      \n",
            "  inflating: images_cut/855.png      \n",
            "  inflating: images_cut/856.png      \n",
            "  inflating: images_cut/857.png      \n",
            "  inflating: images_cut/858.png      \n",
            "  inflating: images_cut/859.png      \n",
            "  inflating: images_cut/861.png      \n",
            "  inflating: images_cut/866.png      \n",
            "  inflating: images_cut/867.png      \n",
            "  inflating: images_cut/872.png      \n",
            "  inflating: images_cut/875.png      \n",
            "  inflating: images_cut/883.png      \n",
            "  inflating: images_cut/885.png      \n",
            "  inflating: images_cut/886.png      \n",
            "  inflating: images_cut/895.png      \n",
            "  inflating: images_cut/901.png      \n",
            "  inflating: images_cut/913.png      \n",
            "  inflating: images_cut/925.png      \n",
            "  inflating: images_cut/934.png      \n",
            "  inflating: images_cut/935.png      \n",
            "  inflating: images_cut/939.png      \n",
            "  inflating: images_cut/942.png      \n",
            "  inflating: images_cut/952.png      \n",
            "  inflating: images_cut/954.png      \n",
            "  inflating: images_cut/963.png      \n",
            "  inflating: images_cut/979.png      \n",
            "  inflating: images_cut/981.png      \n",
            "  inflating: images_cut/996.png      \n",
            "  inflating: labels/1008.png         \n",
            "  inflating: labels/1009.png         \n",
            "  inflating: labels/1016.png         \n",
            "  inflating: labels/1018.png         \n",
            "  inflating: labels/1026.png         \n",
            "  inflating: labels/1033.png         \n",
            "  inflating: labels/1042.png         \n",
            "  inflating: labels/1050.png         \n",
            "  inflating: labels/1058.png         \n",
            "  inflating: labels/1067.png         \n",
            "  inflating: labels/1074.png         \n",
            "  inflating: labels/1080.png         \n",
            "  inflating: labels/1083.png         \n",
            "  inflating: labels/1088.png         \n",
            "  inflating: labels/1090.png         \n",
            "  inflating: labels/1091.png         \n",
            "  inflating: labels/1092.png         \n",
            "  inflating: labels/1096.png         \n",
            "  inflating: labels/306.png          \n",
            "  inflating: labels/310.png          \n",
            "  inflating: labels/318.png          \n",
            "  inflating: labels/323.png          \n",
            "  inflating: labels/347.png          \n",
            "  inflating: labels/350.png          \n",
            "  inflating: labels/354.png          \n",
            "  inflating: labels/360.png          \n",
            "  inflating: labels/365.png          \n",
            "  inflating: labels/367.png          \n",
            "  inflating: labels/369.png          \n",
            "  inflating: labels/370.png          \n",
            "  inflating: labels/372.png          \n",
            "  inflating: labels/376.png          \n",
            "  inflating: labels/378.png          \n",
            "  inflating: labels/383.png          \n",
            "  inflating: labels/388.png          \n",
            "  inflating: labels/392.png          \n",
            "  inflating: labels/395.png          \n",
            "  inflating: labels/396.png          \n",
            "  inflating: labels/702.png          \n",
            "  inflating: labels/706.png          \n",
            "  inflating: labels/708.png          \n",
            "  inflating: labels/710.png          \n",
            "  inflating: labels/714.png          \n",
            "  inflating: labels/715.png          \n",
            "  inflating: labels/717.png          \n",
            "  inflating: labels/724.png          \n",
            "  inflating: labels/732.png          \n",
            "  inflating: labels/736.png          \n",
            "  inflating: labels/740.png          \n",
            "  inflating: labels/748.png          \n",
            "  inflating: labels/750.png          \n",
            "  inflating: labels/755.png          \n",
            "  inflating: labels/758.png          \n",
            "  inflating: labels/759.png          \n",
            "  inflating: labels/761.png          \n",
            "  inflating: labels/769.png          \n",
            "  inflating: labels/777.png          \n",
            "  inflating: labels/778.png          \n",
            "  inflating: labels/783.png          \n",
            "  inflating: labels/784.png          \n",
            "  inflating: labels/786.png          \n",
            "  inflating: labels/790.png          \n",
            "  inflating: labels/793.png          \n",
            "  inflating: labels/797.png          \n",
            "  inflating: labels/804.png          \n",
            "  inflating: labels/810.png          \n",
            "  inflating: labels/812.png          \n",
            "  inflating: labels/814.png          \n",
            "  inflating: labels/818.png          \n",
            "  inflating: labels/819.png          \n",
            "  inflating: labels/822.png          \n",
            "  inflating: labels/837.png          \n",
            "  inflating: labels/842.png          \n",
            "  inflating: labels/855.png          \n",
            "  inflating: labels/856.png          \n",
            "  inflating: labels/857.png          \n",
            "  inflating: labels/858.png          \n",
            "  inflating: labels/859.png          \n",
            "  inflating: labels/861.png          \n",
            "  inflating: labels/866.png          \n",
            "  inflating: labels/867.png          \n",
            "  inflating: labels/872.png          \n",
            "  inflating: labels/875.png          \n",
            "  inflating: labels/883.png          \n",
            "  inflating: labels/885.png          \n",
            "  inflating: labels/886.png          \n",
            "  inflating: labels/895.png          \n",
            "  inflating: labels/901.png          \n",
            "  inflating: labels/913.png          \n",
            "  inflating: labels/925.png          \n",
            "  inflating: labels/934.png          \n",
            "  inflating: labels/935.png          \n",
            "  inflating: labels/939.png          \n",
            "  inflating: labels/942.png          \n",
            "  inflating: labels/952.png          \n",
            "  inflating: labels/954.png          \n",
            "  inflating: labels/963.png          \n",
            "  inflating: labels/979.png          \n",
            "  inflating: labels/981.png          \n",
            "  inflating: labels/996.png          \n",
            "  inflating: labels_cut/1008.png     \n",
            "  inflating: labels_cut/1009.png     \n",
            "  inflating: labels_cut/1016.png     \n",
            "  inflating: labels_cut/1018.png     \n",
            "  inflating: labels_cut/1026.png     \n",
            "  inflating: labels_cut/1033.png     \n",
            "  inflating: labels_cut/1042.png     \n",
            "  inflating: labels_cut/1050.png     \n",
            "  inflating: labels_cut/1058.png     \n",
            "  inflating: labels_cut/1067.png     \n",
            "  inflating: labels_cut/1074.png     \n",
            "  inflating: labels_cut/1080.png     \n",
            "  inflating: labels_cut/1083.png     \n",
            "  inflating: labels_cut/1088.png     \n",
            "  inflating: labels_cut/1090.png     \n",
            "  inflating: labels_cut/1091.png     \n",
            "  inflating: labels_cut/1092.png     \n",
            "  inflating: labels_cut/1096.png     \n",
            "  inflating: labels_cut/306.png      \n",
            "  inflating: labels_cut/310.png      \n",
            "  inflating: labels_cut/318.png      \n",
            "  inflating: labels_cut/323.png      \n",
            "  inflating: labels_cut/347.png      \n",
            "  inflating: labels_cut/350.png      \n",
            "  inflating: labels_cut/354.png      \n",
            "  inflating: labels_cut/360.png      \n",
            "  inflating: labels_cut/365.png      \n",
            "  inflating: labels_cut/367.png      \n",
            "  inflating: labels_cut/369.png      \n",
            "  inflating: labels_cut/370.png      \n",
            "  inflating: labels_cut/372.png      \n",
            "  inflating: labels_cut/376.png      \n",
            "  inflating: labels_cut/378.png      \n",
            "  inflating: labels_cut/383.png      \n",
            "  inflating: labels_cut/388.png      \n",
            "  inflating: labels_cut/392.png      \n",
            "  inflating: labels_cut/395.png      \n",
            "  inflating: labels_cut/396.png      \n",
            "  inflating: labels_cut/702.png      \n",
            "  inflating: labels_cut/706.png      \n",
            "  inflating: labels_cut/708.png      \n",
            "  inflating: labels_cut/710.png      \n",
            "  inflating: labels_cut/714.png      \n",
            "  inflating: labels_cut/715.png      \n",
            "  inflating: labels_cut/717.png      \n",
            "  inflating: labels_cut/724.png      \n",
            "  inflating: labels_cut/732.png      \n",
            "  inflating: labels_cut/736.png      \n",
            "  inflating: labels_cut/740.png      \n",
            "  inflating: labels_cut/748.png      \n",
            "  inflating: labels_cut/750.png      \n",
            "  inflating: labels_cut/755.png      \n",
            "  inflating: labels_cut/758.png      \n",
            "  inflating: labels_cut/759.png      \n",
            "  inflating: labels_cut/761.png      \n",
            "  inflating: labels_cut/769.png      \n",
            "  inflating: labels_cut/777.png      \n",
            "  inflating: labels_cut/778.png      \n",
            "  inflating: labels_cut/783.png      \n",
            "  inflating: labels_cut/784.png      \n",
            "  inflating: labels_cut/786.png      \n",
            "  inflating: labels_cut/790.png      \n",
            "  inflating: labels_cut/793.png      \n",
            "  inflating: labels_cut/797.png      \n",
            "  inflating: labels_cut/804.png      \n",
            "  inflating: labels_cut/810.png      \n",
            "  inflating: labels_cut/812.png      \n",
            "  inflating: labels_cut/814.png      \n",
            "  inflating: labels_cut/818.png      \n",
            "  inflating: labels_cut/819.png      \n",
            "  inflating: labels_cut/822.png      \n",
            "  inflating: labels_cut/837.png      \n",
            "  inflating: labels_cut/842.png      \n",
            "  inflating: labels_cut/855.png      \n",
            "  inflating: labels_cut/856.png      \n",
            "  inflating: labels_cut/857.png      \n",
            "  inflating: labels_cut/858.png      \n",
            "  inflating: labels_cut/859.png      \n",
            "  inflating: labels_cut/861.png      \n",
            "  inflating: labels_cut/866.png      \n",
            "  inflating: labels_cut/867.png      \n",
            "  inflating: labels_cut/872.png      \n",
            "  inflating: labels_cut/875.png      \n",
            "  inflating: labels_cut/883.png      \n",
            "  inflating: labels_cut/885.png      \n",
            "  inflating: labels_cut/886.png      \n",
            "  inflating: labels_cut/895.png      \n",
            "  inflating: labels_cut/901.png      \n",
            "  inflating: labels_cut/913.png      \n",
            "  inflating: labels_cut/925.png      \n",
            "  inflating: labels_cut/934.png      \n",
            "  inflating: labels_cut/935.png      \n",
            "  inflating: labels_cut/939.png      \n",
            "  inflating: labels_cut/942.png      \n",
            "  inflating: labels_cut/952.png      \n",
            "  inflating: labels_cut/954.png      \n",
            "  inflating: labels_cut/963.png      \n",
            "  inflating: labels_cut/979.png      \n",
            "  inflating: labels_cut/981.png      \n",
            "  inflating: labels_cut/996.png      \n"
          ]
        }
      ]
    },
    {
      "cell_type": "code",
      "source": [
        "import os\n",
        "import shutil\n",
        "\n",
        "# Criar pastas de classes se não existirem\n",
        "os.makedirs('/content/images/carie', exist_ok=True)\n",
        "os.makedirs('/content/images/saudavel', exist_ok=True)\n",
        "\n",
        "# Pasta de origem das imagens desorganizadas\n",
        "origem = '/content/images_cut'\n",
        "\n",
        "# Mover imagens com base no nome\n",
        "for nome_arquivo in os.listdir(origem):\n",
        "    caminho_origem = os.path.join(origem, nome_arquivo)\n",
        "\n",
        "    if 'carie' in nome_arquivo.lower():\n",
        "        shutil.move(caminho_origem, '/content/images/carie/' + nome_arquivo)\n",
        "    elif 'saudavel' in nome_arquivo.lower():\n",
        "        shutil.move(caminho_origem, '/content/images/saudavel/' + nome_arquivo)\n",
        "\n",
        "print(\"✅ Imagens organizadas com sucesso!\")\n"
      ],
      "metadata": {
        "colab": {
          "base_uri": "https://localhost:8080/"
        },
        "id": "AEtrg6Qdj4z2",
        "outputId": "47005e54-9bd2-48d1-c34a-759fee264f96"
      },
      "execution_count": 16,
      "outputs": [
        {
          "output_type": "stream",
          "name": "stdout",
          "text": [
            "✅ Imagens organizadas com sucesso!\n"
          ]
        }
      ]
    },
    {
      "cell_type": "code",
      "source": [
        "import os\n",
        "import shutil\n",
        "\n",
        "# Lista todas as imagens\n",
        "arquivos = sorted(os.listdir('/content/images_cut'))\n",
        "\n",
        "# Dividir ao meio: metade carie, metade saudavel (exemplo com 50%)\n",
        "meio = len(arquivos) // 2\n",
        "carie_imgs = arquivos[:meio]\n",
        "saudavel_imgs = arquivos[meio:]\n",
        "\n",
        "# Criar pastas destino\n",
        "os.makedirs('/content/images/carie', exist_ok=True)\n",
        "os.makedirs('/content/images/saudavel', exist_ok=True)\n",
        "\n",
        "# Mover para carie\n",
        "for nome in carie_imgs:\n",
        "    shutil.move(f'/content/images_cut/{nome}', f'/content/images/carie/{nome}')\n",
        "\n",
        "# Mover para saudavel\n",
        "for nome in saudavel_imgs:\n",
        "    shutil.move(f'/content/images_cut/{nome}', f'/content/images/saudavel/{nome}')\n",
        "\n",
        "print(\"✅ Imagens distribuídas entre carie e saudavel.\")\n"
      ],
      "metadata": {
        "colab": {
          "base_uri": "https://localhost:8080/"
        },
        "id": "lF1HNhfGlC1O",
        "outputId": "6551b73a-1e65-4df3-8f14-0a2a4fc7e36d"
      },
      "execution_count": 22,
      "outputs": [
        {
          "output_type": "stream",
          "name": "stdout",
          "text": [
            "✅ Imagens distribuídas entre carie e saudavel.\n"
          ]
        }
      ]
    },
    {
      "cell_type": "markdown",
      "source": [
        "## 6. Carregamento do Conjunto de Dados\n",
        "\n",
        "Verificamos o diretório onde os dados foram extraídos e listamos as classes (subpastas) existentes. Também podemos criar variáveis para armazenar o caminho principal dos dados.\n"
      ],
      "metadata": {
        "id": "1ADt2RA9jzF7"
      }
    },
    {
      "cell_type": "code",
      "source": [
        "import os\n",
        "import pandas as pd\n",
        "\n",
        "data_dir = '/content/images'\n",
        "\n",
        "classes = os.listdir(data_dir)\n",
        "num_classes = len(classes)\n",
        "\n",
        "print(f\"Classes encontradas: {classes}\")\n",
        "print(f\"Número de classes: {num_classes}\")\n"
      ],
      "metadata": {
        "id": "R_6PqU0Q8EFu",
        "colab": {
          "base_uri": "https://localhost:8080/"
        },
        "collapsed": true,
        "outputId": "f808cb6f-f637-4550-9e00-0a4ab8c91f64"
      },
      "execution_count": 23,
      "outputs": [
        {
          "output_type": "stream",
          "name": "stdout",
          "text": [
            "Classes encontradas: ['856.png', '935.png', '885.png', '939.png', '866.png', '842.png', '378.png', '702.png', '872.png', '372.png', '365.png', '1088.png', '736.png', '710.png', '777.png', '376.png', '822.png', '724.png', '759.png', '708.png', '392.png', '783.png', '857.png', '1067.png', '758.png', '996.png', '861.png', '360.png', '954.png', '790.png', '818.png', '310.png', '388.png', '740.png', '369.png', '886.png', '1016.png', '367.png', '714.png', '867.png', '1058.png', '913.png', '761.png', '855.png', '732.png', '1026.png', '858.png', '769.png', '306.png', '370.png', '793.png', '859.png', '1080.png', '323.png', '812.png', '875.png', '981.png', '837.png', '354.png', '748.png', '1050.png', '883.png', '755.png', '350.png', '1018.png', '396.png', '1091.png', '810.png', '901.png', '1009.png', '395.png', '347.png', '934.png', 'carie', '1033.png', '784.png', '715.png', '1042.png', '979.png', '1008.png', '1096.png', '1092.png', 'saudavel', '750.png', '778.png', '963.png', '925.png', '819.png', '797.png', '1090.png', '318.png', '804.png', '706.png', '717.png', '786.png', '942.png', '1083.png', '814.png', '383.png', '895.png', '1074.png', '952.png']\n",
            "Número de classes: 102\n"
          ]
        }
      ]
    },
    {
      "cell_type": "markdown",
      "source": [
        "## 7. Pré-Processamento de Dados\n",
        "\n",
        "Nesta etapa, utilizamos o `ImageDataGenerator` para:\n",
        "- Redimensionar os valores de pixel das imagens (dividindo por 255).\n",
        "- Separar o dataset em treinamento e validação (usando `validation_split=0.2`).\n",
        "- Ajustar o tamanho das imagens (150x150) e o batch size (32).\n",
        "\n",
        "**Por que isso é importante?**\n",
        "- Redimensionar (rescale) ajuda a normalizar os dados.\n",
        "- Dividir em treino/validação permite monitorar se há overfitting.\n",
        "- Padronizar tamanho de imagem facilita o processamento pela rede neural.\n"
      ],
      "metadata": {
        "id": "f2jCtLd4j9CT"
      }
    },
    {
      "cell_type": "code",
      "source": [
        "from tensorflow.keras.preprocessing.image import ImageDataGenerator\n",
        "\n",
        "data_dir = '/content/images'\n",
        "\n",
        "datagen = ImageDataGenerator(\n",
        "    rescale=1./255,\n",
        "    validation_split=0.2\n",
        ")\n",
        "\n",
        "train_generator = datagen.flow_from_directory(\n",
        "    data_dir,\n",
        "    target_size=(150, 150),\n",
        "    batch_size=32,\n",
        "    class_mode='categorical',\n",
        "    subset='training'\n",
        ")\n",
        "\n",
        "validation_generator = datagen.flow_from_directory(\n",
        "    data_dir,\n",
        "    target_size=(150, 150),\n",
        "    batch_size=32,\n",
        "    class_mode='categorical',\n",
        "    subset='validation'\n",
        ")\n"
      ],
      "metadata": {
        "colab": {
          "base_uri": "https://localhost:8080/"
        },
        "id": "TxrxA90u9Qk_",
        "outputId": "f5dd7240-8537-4057-fa2f-ce2c817cbed7",
        "collapsed": true
      },
      "execution_count": 29,
      "outputs": [
        {
          "output_type": "stream",
          "name": "stdout",
          "text": [
            "Found 80 images belonging to 2 classes.\n",
            "Found 20 images belonging to 2 classes.\n"
          ]
        }
      ]
    },
    {
      "cell_type": "markdown",
      "source": [
        "## 8. Construção do Modelo\n",
        "\n",
        "Utilizamos uma rede neural **convolucional** simples, com:\n",
        "- Camadas de `Conv2D` para extração de características.\n",
        "- Camadas de `MaxPooling2D` para redução da dimensionalidade.\n",
        "- `Flatten` para achatar a saída das convoluções.\n",
        "- `Dense` para as camadas totalmente conectadas.\n",
        "- `Dropout` para evitar overfitting.\n",
        "- `softmax` na camada final, pois há mais de uma classe (multiclasse).\n",
        "\n",
        "**Como isso melhora o modelo?**  \n",
        "- As camadas convolucionais ajudam a detectar padrões em imagens (bordas, texturas).  \n",
        "- O pooling reduz a complexidade, mantendo as informações mais relevantes.  \n",
        "- O Dropout reduz o risco de o modelo decorar o conjunto de treinamento.\n"
      ],
      "metadata": {
        "id": "lbQsTN-DkJ56"
      }
    },
    {
      "cell_type": "code",
      "source": [
        "import tensorflow as tf\n",
        "from tensorflow.keras.models import Sequential\n",
        "from tensorflow.keras.layers import Conv2D, MaxPooling2D, Flatten, Dense, Dropout\n",
        "\n",
        "num_classes = train_generator.num_classes  # Garante que seja 2 automaticamente\n",
        "\n",
        "model = Sequential([\n",
        "    Conv2D(32, (3, 3), activation='relu', input_shape=(150, 150, 3)),\n",
        "    MaxPooling2D(2, 2),\n",
        "    Conv2D(64, (3, 3), activation='relu'),\n",
        "    MaxPooling2D(2, 2),\n",
        "    Flatten(),\n",
        "    Dense(128, activation='relu'),\n",
        "    Dropout(0.5),\n",
        "    Dense(num_classes, activation='softmax')  # Corrigido: saída com número real de classes\n",
        "])\n",
        "\n",
        "model.compile(optimizer='adam',\n",
        "              loss='categorical_crossentropy',\n",
        "              metrics=['accuracy'])\n",
        "\n",
        "model.summary()\n",
        "\n"
      ],
      "metadata": {
        "id": "U_ytfT6R9bcu",
        "colab": {
          "base_uri": "https://localhost:8080/",
          "height": 391
        },
        "outputId": "51ab5409-b308-453a-f05d-01cbd039cb8e"
      },
      "execution_count": 30,
      "outputs": [
        {
          "output_type": "display_data",
          "data": {
            "text/plain": [
              "\u001b[1mModel: \"sequential_3\"\u001b[0m\n"
            ],
            "text/html": [
              "<pre style=\"white-space:pre;overflow-x:auto;line-height:normal;font-family:Menlo,'DejaVu Sans Mono',consolas,'Courier New',monospace\"><span style=\"font-weight: bold\">Model: \"sequential_3\"</span>\n",
              "</pre>\n"
            ]
          },
          "metadata": {}
        },
        {
          "output_type": "display_data",
          "data": {
            "text/plain": [
              "┏━━━━━━━━━━━━━━━━━━━━━━━━━━━━━━━━━┳━━━━━━━━━━━━━━━━━━━━━━━━┳━━━━━━━━━━━━━━━┓\n",
              "┃\u001b[1m \u001b[0m\u001b[1mLayer (type)                   \u001b[0m\u001b[1m \u001b[0m┃\u001b[1m \u001b[0m\u001b[1mOutput Shape          \u001b[0m\u001b[1m \u001b[0m┃\u001b[1m \u001b[0m\u001b[1m      Param #\u001b[0m\u001b[1m \u001b[0m┃\n",
              "┡━━━━━━━━━━━━━━━━━━━━━━━━━━━━━━━━━╇━━━━━━━━━━━━━━━━━━━━━━━━╇━━━━━━━━━━━━━━━┩\n",
              "│ conv2d_6 (\u001b[38;5;33mConv2D\u001b[0m)               │ (\u001b[38;5;45mNone\u001b[0m, \u001b[38;5;34m148\u001b[0m, \u001b[38;5;34m148\u001b[0m, \u001b[38;5;34m32\u001b[0m)   │           \u001b[38;5;34m896\u001b[0m │\n",
              "├─────────────────────────────────┼────────────────────────┼───────────────┤\n",
              "│ max_pooling2d_6 (\u001b[38;5;33mMaxPooling2D\u001b[0m)  │ (\u001b[38;5;45mNone\u001b[0m, \u001b[38;5;34m74\u001b[0m, \u001b[38;5;34m74\u001b[0m, \u001b[38;5;34m32\u001b[0m)     │             \u001b[38;5;34m0\u001b[0m │\n",
              "├─────────────────────────────────┼────────────────────────┼───────────────┤\n",
              "│ conv2d_7 (\u001b[38;5;33mConv2D\u001b[0m)               │ (\u001b[38;5;45mNone\u001b[0m, \u001b[38;5;34m72\u001b[0m, \u001b[38;5;34m72\u001b[0m, \u001b[38;5;34m64\u001b[0m)     │        \u001b[38;5;34m18,496\u001b[0m │\n",
              "├─────────────────────────────────┼────────────────────────┼───────────────┤\n",
              "│ max_pooling2d_7 (\u001b[38;5;33mMaxPooling2D\u001b[0m)  │ (\u001b[38;5;45mNone\u001b[0m, \u001b[38;5;34m36\u001b[0m, \u001b[38;5;34m36\u001b[0m, \u001b[38;5;34m64\u001b[0m)     │             \u001b[38;5;34m0\u001b[0m │\n",
              "├─────────────────────────────────┼────────────────────────┼───────────────┤\n",
              "│ flatten_3 (\u001b[38;5;33mFlatten\u001b[0m)             │ (\u001b[38;5;45mNone\u001b[0m, \u001b[38;5;34m82944\u001b[0m)          │             \u001b[38;5;34m0\u001b[0m │\n",
              "├─────────────────────────────────┼────────────────────────┼───────────────┤\n",
              "│ dense_6 (\u001b[38;5;33mDense\u001b[0m)                 │ (\u001b[38;5;45mNone\u001b[0m, \u001b[38;5;34m128\u001b[0m)            │    \u001b[38;5;34m10,616,960\u001b[0m │\n",
              "├─────────────────────────────────┼────────────────────────┼───────────────┤\n",
              "│ dropout_3 (\u001b[38;5;33mDropout\u001b[0m)             │ (\u001b[38;5;45mNone\u001b[0m, \u001b[38;5;34m128\u001b[0m)            │             \u001b[38;5;34m0\u001b[0m │\n",
              "├─────────────────────────────────┼────────────────────────┼───────────────┤\n",
              "│ dense_7 (\u001b[38;5;33mDense\u001b[0m)                 │ (\u001b[38;5;45mNone\u001b[0m, \u001b[38;5;34m2\u001b[0m)              │           \u001b[38;5;34m258\u001b[0m │\n",
              "└─────────────────────────────────┴────────────────────────┴───────────────┘\n"
            ],
            "text/html": [
              "<pre style=\"white-space:pre;overflow-x:auto;line-height:normal;font-family:Menlo,'DejaVu Sans Mono',consolas,'Courier New',monospace\">┏━━━━━━━━━━━━━━━━━━━━━━━━━━━━━━━━━┳━━━━━━━━━━━━━━━━━━━━━━━━┳━━━━━━━━━━━━━━━┓\n",
              "┃<span style=\"font-weight: bold\"> Layer (type)                    </span>┃<span style=\"font-weight: bold\"> Output Shape           </span>┃<span style=\"font-weight: bold\">       Param # </span>┃\n",
              "┡━━━━━━━━━━━━━━━━━━━━━━━━━━━━━━━━━╇━━━━━━━━━━━━━━━━━━━━━━━━╇━━━━━━━━━━━━━━━┩\n",
              "│ conv2d_6 (<span style=\"color: #0087ff; text-decoration-color: #0087ff\">Conv2D</span>)               │ (<span style=\"color: #00d7ff; text-decoration-color: #00d7ff\">None</span>, <span style=\"color: #00af00; text-decoration-color: #00af00\">148</span>, <span style=\"color: #00af00; text-decoration-color: #00af00\">148</span>, <span style=\"color: #00af00; text-decoration-color: #00af00\">32</span>)   │           <span style=\"color: #00af00; text-decoration-color: #00af00\">896</span> │\n",
              "├─────────────────────────────────┼────────────────────────┼───────────────┤\n",
              "│ max_pooling2d_6 (<span style=\"color: #0087ff; text-decoration-color: #0087ff\">MaxPooling2D</span>)  │ (<span style=\"color: #00d7ff; text-decoration-color: #00d7ff\">None</span>, <span style=\"color: #00af00; text-decoration-color: #00af00\">74</span>, <span style=\"color: #00af00; text-decoration-color: #00af00\">74</span>, <span style=\"color: #00af00; text-decoration-color: #00af00\">32</span>)     │             <span style=\"color: #00af00; text-decoration-color: #00af00\">0</span> │\n",
              "├─────────────────────────────────┼────────────────────────┼───────────────┤\n",
              "│ conv2d_7 (<span style=\"color: #0087ff; text-decoration-color: #0087ff\">Conv2D</span>)               │ (<span style=\"color: #00d7ff; text-decoration-color: #00d7ff\">None</span>, <span style=\"color: #00af00; text-decoration-color: #00af00\">72</span>, <span style=\"color: #00af00; text-decoration-color: #00af00\">72</span>, <span style=\"color: #00af00; text-decoration-color: #00af00\">64</span>)     │        <span style=\"color: #00af00; text-decoration-color: #00af00\">18,496</span> │\n",
              "├─────────────────────────────────┼────────────────────────┼───────────────┤\n",
              "│ max_pooling2d_7 (<span style=\"color: #0087ff; text-decoration-color: #0087ff\">MaxPooling2D</span>)  │ (<span style=\"color: #00d7ff; text-decoration-color: #00d7ff\">None</span>, <span style=\"color: #00af00; text-decoration-color: #00af00\">36</span>, <span style=\"color: #00af00; text-decoration-color: #00af00\">36</span>, <span style=\"color: #00af00; text-decoration-color: #00af00\">64</span>)     │             <span style=\"color: #00af00; text-decoration-color: #00af00\">0</span> │\n",
              "├─────────────────────────────────┼────────────────────────┼───────────────┤\n",
              "│ flatten_3 (<span style=\"color: #0087ff; text-decoration-color: #0087ff\">Flatten</span>)             │ (<span style=\"color: #00d7ff; text-decoration-color: #00d7ff\">None</span>, <span style=\"color: #00af00; text-decoration-color: #00af00\">82944</span>)          │             <span style=\"color: #00af00; text-decoration-color: #00af00\">0</span> │\n",
              "├─────────────────────────────────┼────────────────────────┼───────────────┤\n",
              "│ dense_6 (<span style=\"color: #0087ff; text-decoration-color: #0087ff\">Dense</span>)                 │ (<span style=\"color: #00d7ff; text-decoration-color: #00d7ff\">None</span>, <span style=\"color: #00af00; text-decoration-color: #00af00\">128</span>)            │    <span style=\"color: #00af00; text-decoration-color: #00af00\">10,616,960</span> │\n",
              "├─────────────────────────────────┼────────────────────────┼───────────────┤\n",
              "│ dropout_3 (<span style=\"color: #0087ff; text-decoration-color: #0087ff\">Dropout</span>)             │ (<span style=\"color: #00d7ff; text-decoration-color: #00d7ff\">None</span>, <span style=\"color: #00af00; text-decoration-color: #00af00\">128</span>)            │             <span style=\"color: #00af00; text-decoration-color: #00af00\">0</span> │\n",
              "├─────────────────────────────────┼────────────────────────┼───────────────┤\n",
              "│ dense_7 (<span style=\"color: #0087ff; text-decoration-color: #0087ff\">Dense</span>)                 │ (<span style=\"color: #00d7ff; text-decoration-color: #00d7ff\">None</span>, <span style=\"color: #00af00; text-decoration-color: #00af00\">2</span>)              │           <span style=\"color: #00af00; text-decoration-color: #00af00\">258</span> │\n",
              "└─────────────────────────────────┴────────────────────────┴───────────────┘\n",
              "</pre>\n"
            ]
          },
          "metadata": {}
        },
        {
          "output_type": "display_data",
          "data": {
            "text/plain": [
              "\u001b[1m Total params: \u001b[0m\u001b[38;5;34m10,636,610\u001b[0m (40.58 MB)\n"
            ],
            "text/html": [
              "<pre style=\"white-space:pre;overflow-x:auto;line-height:normal;font-family:Menlo,'DejaVu Sans Mono',consolas,'Courier New',monospace\"><span style=\"font-weight: bold\"> Total params: </span><span style=\"color: #00af00; text-decoration-color: #00af00\">10,636,610</span> (40.58 MB)\n",
              "</pre>\n"
            ]
          },
          "metadata": {}
        },
        {
          "output_type": "display_data",
          "data": {
            "text/plain": [
              "\u001b[1m Trainable params: \u001b[0m\u001b[38;5;34m10,636,610\u001b[0m (40.58 MB)\n"
            ],
            "text/html": [
              "<pre style=\"white-space:pre;overflow-x:auto;line-height:normal;font-family:Menlo,'DejaVu Sans Mono',consolas,'Courier New',monospace\"><span style=\"font-weight: bold\"> Trainable params: </span><span style=\"color: #00af00; text-decoration-color: #00af00\">10,636,610</span> (40.58 MB)\n",
              "</pre>\n"
            ]
          },
          "metadata": {}
        },
        {
          "output_type": "display_data",
          "data": {
            "text/plain": [
              "\u001b[1m Non-trainable params: \u001b[0m\u001b[38;5;34m0\u001b[0m (0.00 B)\n"
            ],
            "text/html": [
              "<pre style=\"white-space:pre;overflow-x:auto;line-height:normal;font-family:Menlo,'DejaVu Sans Mono',consolas,'Courier New',monospace\"><span style=\"font-weight: bold\"> Non-trainable params: </span><span style=\"color: #00af00; text-decoration-color: #00af00\">0</span> (0.00 B)\n",
              "</pre>\n"
            ]
          },
          "metadata": {}
        }
      ]
    },
    {
      "cell_type": "markdown",
      "source": [
        "## 9. Compilação do Modelo\n",
        "\n",
        "Aqui definimos:\n",
        "- Otimizador: `adam` (geralmente um bom ponto de partida).\n",
        "- Função de perda: `categorical_crossentropy` (pois temos mais de 2 classes).\n",
        "- Métrica principal: `accuracy`.\n",
        "\n",
        "**Observação**: Poderíamos testar outros otimizadores ou ajustar a taxa de aprendizado para ver se obtemos melhores resultados.\n"
      ],
      "metadata": {
        "id": "FGUWceiRk1wT"
      }
    },
    {
      "cell_type": "code",
      "source": [
        "from PIL import Image\n",
        "import os\n",
        "\n",
        "for pasta in ['carie', 'saudavel']:\n",
        "    caminho_pasta = f'/content/images/{pasta}'\n",
        "    for arquivo in os.listdir(caminho_pasta):\n",
        "        caminho_arquivo = os.path.join(caminho_pasta, arquivo)\n",
        "        try:\n",
        "            img = Image.open(caminho_arquivo)\n",
        "            img.verify()  # Verifica integridade\n",
        "        except Exception as e:\n",
        "            print(f\"⚠️ Erro ao abrir {arquivo}: {e}\")\n"
      ],
      "metadata": {
        "id": "QbsVtsEUkYPe"
      },
      "execution_count": 26,
      "outputs": []
    },
    {
      "cell_type": "code",
      "source": [
        "print(\"Classes detectadas:\", train_generator.class_indices)\n",
        "print(\"Quantidade de treino:\", train_generator.samples)\n",
        "print(\"Quantidade de validação:\", validation_generator.samples)\n"
      ],
      "metadata": {
        "colab": {
          "base_uri": "https://localhost:8080/"
        },
        "id": "alF9s7qomRNG",
        "outputId": "8d14e88a-ef0c-484a-ff23-72860ed29b5d"
      },
      "execution_count": 28,
      "outputs": [
        {
          "output_type": "stream",
          "name": "stdout",
          "text": [
            "Classes detectadas: {'carie': 0, 'saudavel': 1}\n",
            "Quantidade de treino: 80\n",
            "Quantidade de validação: 20\n"
          ]
        }
      ]
    },
    {
      "cell_type": "code",
      "source": [
        "history = model.fit(\n",
        "    train_generator,\n",
        "    epochs=10,\n",
        "    validation_data=validation_generator\n",
        ")\n"
      ],
      "metadata": {
        "id": "ONN2GvLO9w_P",
        "colab": {
          "base_uri": "https://localhost:8080/"
        },
        "outputId": "f8d8691d-d0ab-40be-d155-13be90814b3e"
      },
      "execution_count": 31,
      "outputs": [
        {
          "output_type": "stream",
          "name": "stdout",
          "text": [
            "Epoch 1/10\n",
            "\u001b[1m3/3\u001b[0m \u001b[32m━━━━━━━━━━━━━━━━━━━━\u001b[0m\u001b[37m\u001b[0m \u001b[1m9s\u001b[0m 2s/step - accuracy: 0.5195 - loss: 2.3118 - val_accuracy: 0.5000 - val_loss: 3.9321\n",
            "Epoch 2/10\n",
            "\u001b[1m3/3\u001b[0m \u001b[32m━━━━━━━━━━━━━━━━━━━━\u001b[0m\u001b[37m\u001b[0m \u001b[1m6s\u001b[0m 1s/step - accuracy: 0.5573 - loss: 2.9051 - val_accuracy: 0.5000 - val_loss: 1.0837\n",
            "Epoch 3/10\n",
            "\u001b[1m3/3\u001b[0m \u001b[32m━━━━━━━━━━━━━━━━━━━━\u001b[0m\u001b[37m\u001b[0m \u001b[1m12s\u001b[0m 4s/step - accuracy: 0.5273 - loss: 1.0307 - val_accuracy: 0.5000 - val_loss: 0.6959\n",
            "Epoch 4/10\n",
            "\u001b[1m3/3\u001b[0m \u001b[32m━━━━━━━━━━━━━━━━━━━━\u001b[0m\u001b[37m\u001b[0m \u001b[1m5s\u001b[0m 2s/step - accuracy: 0.4854 - loss: 0.7140 - val_accuracy: 0.5000 - val_loss: 0.6890\n",
            "Epoch 5/10\n",
            "\u001b[1m3/3\u001b[0m \u001b[32m━━━━━━━━━━━━━━━━━━━━\u001b[0m\u001b[37m\u001b[0m \u001b[1m6s\u001b[0m 2s/step - accuracy: 0.6172 - loss: 0.6809 - val_accuracy: 0.6000 - val_loss: 0.6807\n",
            "Epoch 6/10\n",
            "\u001b[1m3/3\u001b[0m \u001b[32m━━━━━━━━━━━━━━━━━━━━\u001b[0m\u001b[37m\u001b[0m \u001b[1m9s\u001b[0m 1s/step - accuracy: 0.5547 - loss: 0.6748 - val_accuracy: 0.6500 - val_loss: 0.6764\n",
            "Epoch 7/10\n",
            "\u001b[1m3/3\u001b[0m \u001b[32m━━━━━━━━━━━━━━━━━━━━\u001b[0m\u001b[37m\u001b[0m \u001b[1m6s\u001b[0m 2s/step - accuracy: 0.5646 - loss: 0.6651 - val_accuracy: 0.6000 - val_loss: 0.6687\n",
            "Epoch 8/10\n",
            "\u001b[1m3/3\u001b[0m \u001b[32m━━━━━━━━━━━━━━━━━━━━\u001b[0m\u001b[37m\u001b[0m \u001b[1m5s\u001b[0m 2s/step - accuracy: 0.6365 - loss: 0.6124 - val_accuracy: 0.5500 - val_loss: 0.6797\n",
            "Epoch 9/10\n",
            "\u001b[1m3/3\u001b[0m \u001b[32m━━━━━━━━━━━━━━━━━━━━\u001b[0m\u001b[37m\u001b[0m \u001b[1m6s\u001b[0m 2s/step - accuracy: 0.7677 - loss: 0.5543 - val_accuracy: 0.5500 - val_loss: 0.6817\n",
            "Epoch 10/10\n",
            "\u001b[1m3/3\u001b[0m \u001b[32m━━━━━━━━━━━━━━━━━━━━\u001b[0m\u001b[37m\u001b[0m \u001b[1m5s\u001b[0m 1s/step - accuracy: 0.6734 - loss: 0.5728 - val_accuracy: 0.6000 - val_loss: 0.6547\n"
          ]
        }
      ]
    },
    {
      "cell_type": "markdown",
      "source": [
        "## 10. Treinamento do Modelo\n",
        "\n",
        "Treinamos o modelo usando:\n",
        "- `train_generator` para o conjunto de treino.\n",
        "- `validation_generator` para o conjunto de validação.\n",
        "- `epochs=10` (pode ajustar conforme necessidade).\n",
        "\n",
        "**Melhorias**:\n",
        "- Podemos incluir callbacks como `EarlyStopping` ou `ModelCheckpoint` para interromper o treinamento quando não houver melhora.\n",
        "- Monitorar métricas como acurácia e perda ao longo das épocas.\n"
      ],
      "metadata": {
        "id": "1vuoTQlIlCqL"
      }
    },
    {
      "cell_type": "code",
      "source": [
        "loss, accuracy = model.evaluate(validation_generator)\n",
        "print(f\"Acurácia: {accuracy * 100:.2f}%\")\n"
      ],
      "metadata": {
        "colab": {
          "base_uri": "https://localhost:8080/"
        },
        "id": "meb7_4kc90k2",
        "outputId": "ed3b8e57-a24d-4774-a73d-d0e2e4eb6206"
      },
      "execution_count": 32,
      "outputs": [
        {
          "output_type": "stream",
          "name": "stdout",
          "text": [
            "\u001b[1m1/1\u001b[0m \u001b[32m━━━━━━━━━━━━━━━━━━━━\u001b[0m\u001b[37m\u001b[0m \u001b[1m1s\u001b[0m 731ms/step - accuracy: 0.6000 - loss: 0.6547\n",
            "Acurácia: 60.00%\n"
          ]
        }
      ]
    },
    {
      "cell_type": "markdown",
      "source": [
        "## 11. Avaliação do Modelo\n",
        "\n",
        "Aqui avaliamos o modelo usando o `validation_generator`. Também podemos calcular a acurácia, que indica o percentual de acertos na classificação.\n"
      ],
      "metadata": {
        "id": "R8DZ-PwClGUD"
      }
    },
    {
      "cell_type": "code",
      "source": [
        "\n",
        "loss, accuracy = model.evaluate(validation_generator)\n",
        "print(f'Acurácia: {accuracy * 100:.2f}%')"
      ],
      "metadata": {
        "colab": {
          "base_uri": "https://localhost:8080/"
        },
        "id": "t6zJY_0w-EdX",
        "outputId": "b1b561c5-ae38-4fe6-c305-4a06373577b2"
      },
      "execution_count": null,
      "outputs": [
        {
          "output_type": "stream",
          "name": "stdout",
          "text": [
            "\u001b[1m3/3\u001b[0m \u001b[32m━━━━━━━━━━━━━━━━━━━━\u001b[0m\u001b[37m\u001b[0m \u001b[1m3s\u001b[0m 671ms/step - accuracy: 1.0000 - loss: 0.0144\n",
            "Acurácia: 100.00%\n"
          ]
        }
      ]
    },
    {
      "cell_type": "code",
      "source": [
        "model.save('modelo_caries.h5')\n",
        "print(\"Modelo salvo com sucesso!\")\n"
      ],
      "metadata": {
        "colab": {
          "base_uri": "https://localhost:8080/"
        },
        "id": "rBrL8CzDne_h",
        "outputId": "338a6135-34ba-468f-c0b6-577633f067ce"
      },
      "execution_count": 33,
      "outputs": [
        {
          "output_type": "stream",
          "name": "stderr",
          "text": [
            "WARNING:absl:You are saving your model as an HDF5 file via `model.save()` or `keras.saving.save_model(model)`. This file format is considered legacy. We recommend using instead the native Keras format, e.g. `model.save('my_model.keras')` or `keras.saving.save_model(model, 'my_model.keras')`. \n"
          ]
        },
        {
          "output_type": "stream",
          "name": "stdout",
          "text": [
            "Modelo salvo com sucesso!\n"
          ]
        }
      ]
    }
  ]
}